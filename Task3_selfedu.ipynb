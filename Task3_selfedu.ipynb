{
  "nbformat": 4,
  "nbformat_minor": 0,
  "metadata": {
    "colab": {
      "provenance": [],
      "authorship_tag": "ABX9TyMpQpML3yCOYAmAlNRaLvXi",
      "include_colab_link": true
    },
    "kernelspec": {
      "name": "python3",
      "display_name": "Python 3"
    },
    "language_info": {
      "name": "python"
    }
  },
  "cells": [
    {
      "cell_type": "markdown",
      "metadata": {
        "id": "view-in-github",
        "colab_type": "text"
      },
      "source": [
        "<a href=\"https://colab.research.google.com/github/juicyrohan/selfedu-neural-network/blob/main/Task3_selfedu.ipynb\" target=\"_parent\"><img src=\"https://colab.research.google.com/assets/colab-badge.svg\" alt=\"Open In Colab\"/></a>"
      ]
    },
    {
      "cell_type": "code",
      "execution_count": 1,
      "metadata": {
        "id": "PEp49xt7hx1y"
      },
      "outputs": [],
      "source": [
        "import numpy as np\n",
        "import matplotlib.pyplot as plt"
      ]
    },
    {
      "cell_type": "code",
      "source": [
        "def act(x):\n",
        "  return 0 if x <= 0 else 1"
      ],
      "metadata": {
        "id": "10QIjLswh5hN"
      },
      "execution_count": 2,
      "outputs": []
    },
    {
      "cell_type": "code",
      "source": [
        "def go(C):\n",
        "    x = np.array([C[0], C[1], 1])\n",
        "    w1 = [1, 1, -1.5]\n",
        "    w2 = [1, 1, -0.5]\n",
        "    w_hidden = np.array([w1, w2])\n",
        "    w_out = np.array([-1, 1, -0.5])\n",
        "\n",
        "    sum = np.dot(w_hidden, x)\n",
        "    out = [act(x) for x in sum]\n",
        "    out.append(1)\n",
        "    out = np.array(out)\n",
        "\n",
        "    sum = np.dot(w_out, out)\n",
        "    y = act(sum)\n",
        "    return y    "
      ],
      "metadata": {
        "id": "2qLABzf5iH69"
      },
      "execution_count": 5,
      "outputs": []
    },
    {
      "cell_type": "code",
      "source": [
        "C1 = [(1, 0), (0, 1)]\n",
        "C2 = [(0, 0), (1, 1)]"
      ],
      "metadata": {
        "id": "Krjy4u-2jL5x"
      },
      "execution_count": 6,
      "outputs": []
    },
    {
      "cell_type": "code",
      "source": [
        "print(go(C1[0]), go(C1[1]))\n",
        "print(go(C2[0]), go(C2[1]))"
      ],
      "metadata": {
        "colab": {
          "base_uri": "https://localhost:8080/"
        },
        "id": "zo59iOtzmiXs",
        "outputId": "0b9b8154-72d4-445f-fc00-172acf31eaea"
      },
      "execution_count": 7,
      "outputs": [
        {
          "output_type": "stream",
          "name": "stdout",
          "text": [
            "1 1\n",
            "0 0\n"
          ]
        }
      ]
    },
    {
      "cell_type": "code",
      "source": [],
      "metadata": {
        "id": "Xnb3h4OQmyFI"
      },
      "execution_count": null,
      "outputs": []
    }
  ]
}