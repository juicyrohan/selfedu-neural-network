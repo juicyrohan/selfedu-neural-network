{
  "nbformat": 4,
  "nbformat_minor": 0,
  "metadata": {
    "colab": {
      "provenance": [],
      "collapsed_sections": [],
      "authorship_tag": "ABX9TyPGLrKyJP12xRCQ0tdgNhG2",
      "include_colab_link": true
    },
    "kernelspec": {
      "name": "python3",
      "display_name": "Python 3"
    },
    "language_info": {
      "name": "python"
    }
  },
  "cells": [
    {
      "cell_type": "markdown",
      "metadata": {
        "id": "view-in-github",
        "colab_type": "text"
      },
      "source": [
        "<a href=\"https://colab.research.google.com/github/juicyrohan/selfedu-neural-network/blob/main/Task1_selfedu.ipynb\" target=\"_parent\"><img src=\"https://colab.research.google.com/assets/colab-badge.svg\" alt=\"Open In Colab\"/></a>"
      ]
    },
    {
      "cell_type": "code",
      "execution_count": 1,
      "metadata": {
        "id": "vEULf-xpUYnL"
      },
      "outputs": [],
      "source": [
        "import numpy as np"
      ]
    },
    {
      "cell_type": "code",
      "source": [
        "def act(x):\n",
        "    return 0 if x < 0.5 else 1"
      ],
      "metadata": {
        "id": "9OMwkp9PUl6g"
      },
      "execution_count": 2,
      "outputs": []
    },
    {
      "cell_type": "code",
      "source": [
        "def go(house, rock, attr):\n",
        "    x = np.array([house, rock, attr])\n",
        "    w11 = [0.3, 0.3, 0]\n",
        "    w12 = [0.4, -0.5, 1]\n",
        "    weight1 = np.array([w11, w12]) # матрица 2x3\n",
        "    weight2 = np.array([-1, 1]) # вектор 1x2\n",
        "\n",
        "    sum_hidden = np.dot(weight1, x) # вычисляем сумму на входах нейронов скрытого слоя\n",
        "    print(\"Значения сумм на нейронах скрытого слоя: \" + str(sum_hidden))\n",
        "\n",
        "    out_hidden = np.array([act(x) for x in sum_hidden]) \n",
        "    print(\"Значения на выходах нейронов скрытого слоя: \" + str(out_hidden))\n",
        "\n",
        "    sum_end = np.dot(weight2, out_hidden)\n",
        "    y = act(sum_end)\n",
        "    print(\"Выходное значение НС: \" + str(y))\n",
        "    \n",
        "    return y"
      ],
      "metadata": {
        "id": "H4-zYyLrUz2m"
      },
      "execution_count": 3,
      "outputs": []
    },
    {
      "cell_type": "code",
      "source": [
        "house = 1\n",
        "rock = 0\n",
        "attr = 1"
      ],
      "metadata": {
        "id": "xe7TRD1MiUCx"
      },
      "execution_count": 4,
      "outputs": []
    },
    {
      "cell_type": "code",
      "source": [
        "res = go(house, rock, attr)\n",
        "if res == 1:\n",
        "    print(\"Ты мне нравишься\")\n",
        "else:\n",
        "    print(\"Созвонимся\")"
      ],
      "metadata": {
        "colab": {
          "base_uri": "https://localhost:8080/"
        },
        "id": "CIoFTrjNinHE",
        "outputId": "94f9a995-ff0d-4e22-e1b3-c88d4b9fd62c"
      },
      "execution_count": 5,
      "outputs": [
        {
          "output_type": "stream",
          "name": "stdout",
          "text": [
            "Значения сумм на нейронах скрытого слоя: [0.3 1.4]\n",
            "Значения на выходах нейронов скрытого слоя: [0 1]\n",
            "Выходное значение НС: 1\n",
            "Ты мне нравишься\n"
          ]
        }
      ]
    },
    {
      "cell_type": "code",
      "source": [],
      "metadata": {
        "id": "j_mNpyGfjQQN"
      },
      "execution_count": null,
      "outputs": []
    }
  ]
}