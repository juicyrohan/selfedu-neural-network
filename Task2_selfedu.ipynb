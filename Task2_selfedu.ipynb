{
  "nbformat": 4,
  "nbformat_minor": 0,
  "metadata": {
    "colab": {
      "provenance": [],
      "authorship_tag": "ABX9TyMVIEtHH2HWXDzpc6AWwqCo",
      "include_colab_link": true
    },
    "kernelspec": {
      "name": "python3",
      "display_name": "Python 3"
    },
    "language_info": {
      "name": "python"
    }
  },
  "cells": [
    {
      "cell_type": "markdown",
      "metadata": {
        "id": "view-in-github",
        "colab_type": "text"
      },
      "source": [
        "<a href=\"https://colab.research.google.com/github/juicyrohan/selfedu-neural-network/blob/main/Task2_selfedu.ipynb\" target=\"_parent\"><img src=\"https://colab.research.google.com/assets/colab-badge.svg\" alt=\"Open In Colab\"/></a>"
      ]
    },
    {
      "cell_type": "markdown",
      "source": [
        "# Без смещения"
      ],
      "metadata": {
        "id": "7xrhXF3GPkZ_"
      }
    },
    {
      "cell_type": "code",
      "execution_count": 184,
      "metadata": {
        "id": "N6HbAtQEge-Y"
      },
      "outputs": [],
      "source": [
        "import numpy as np\n",
        "import matplotlib.pyplot as plt "
      ]
    },
    {
      "cell_type": "code",
      "source": [
        "N = 5 # 5 образов для каждого класса"
      ],
      "metadata": {
        "id": "C4u2LYmegl06"
      },
      "execution_count": 176,
      "outputs": []
    },
    {
      "cell_type": "code",
      "source": [
        "x1 = np.random.random(N)\n",
        "x2 = x1 + [np.random.randint(10)/10 for i in range(N)]\n",
        "C1 = [x1, x2]"
      ],
      "metadata": {
        "id": "_ryLpIiHjMq7"
      },
      "execution_count": 177,
      "outputs": []
    },
    {
      "cell_type": "code",
      "source": [
        "x1 = np.random.random(N)\n",
        "x2 = x1 - [np.random.randint(10)/10 for i in range(N)] - 0.1\n",
        "C2 = [x1, x2]"
      ],
      "metadata": {
        "id": "xKqZjx6kkYfU"
      },
      "execution_count": 178,
      "outputs": []
    },
    {
      "cell_type": "code",
      "source": [
        "f = [0, 1]"
      ],
      "metadata": {
        "id": "lRUuD4wnl_cX"
      },
      "execution_count": 179,
      "outputs": []
    },
    {
      "cell_type": "code",
      "source": [
        "w = np.array([-0.5, 0.5])\n",
        "for i in range(N):\n",
        "    x = np.array([C1[0][i], C1[1][i]])\n",
        "    y = np.dot(x, w)\n",
        "    if y >= 0:\n",
        "        print(\"Класс C1\")\n",
        "    else:\n",
        "        print(\"Класс C2\")"
      ],
      "metadata": {
        "colab": {
          "base_uri": "https://localhost:8080/"
        },
        "id": "phl2k_HawfTM",
        "outputId": "7b49769f-d4a1-481a-9ec9-e95e8927484c"
      },
      "execution_count": 214,
      "outputs": [
        {
          "output_type": "stream",
          "name": "stdout",
          "text": [
            "Класс C1\n",
            "Класс C1\n",
            "Класс C1\n",
            "Класс C1\n",
            "Класс C1\n"
          ]
        }
      ]
    },
    {
      "cell_type": "code",
      "source": [
        "plt.scatter(C1[0][:], C1[1][:], s=10, c='red')\n",
        "plt.scatter(C2[0][:], C2[1][:], s=10, c='blue')\n",
        "plt.plot(f)\n",
        "plt.grid(True)\n",
        "plt.show()"
      ],
      "metadata": {
        "colab": {
          "base_uri": "https://localhost:8080/",
          "height": 265
        },
        "id": "EQLDRxgTwsLH",
        "outputId": "ea1128e5-b573-4b11-8e85-15326ef75b84"
      },
      "execution_count": 183,
      "outputs": [
        {
          "output_type": "display_data",
          "data": {
            "text/plain": [
              "<Figure size 432x288 with 1 Axes>"
            ],
            "image/png": "[encoded data removed]"
          },
          "metadata": {
            "needs_background": "light"
          }
        }
      ]
    },
    {
      "cell_type": "markdown",
      "source": [],
      "metadata": {
        "id": "8ViDmsodPwgG"
      }
    },
    {
      "cell_type": "markdown",
      "source": [
        "# Со смещением"
      ],
      "metadata": {
        "id": "OOf8Tb7YPyXS"
      }
    },
    {
      "cell_type": "code",
      "source": [
        "import numpy as np\n",
        "import matplotlib.pyplot as plt "
      ],
      "metadata": {
        "id": "vhD8Xqf8P2mL"
      },
      "execution_count": 231,
      "outputs": []
    },
    {
      "cell_type": "code",
      "source": [
        "N = 5 # 5 образов для каждого класса\n",
        "b = 3 # смещение"
      ],
      "metadata": {
        "id": "VZxwM0EdQaYZ"
      },
      "execution_count": 232,
      "outputs": []
    },
    {
      "cell_type": "code",
      "source": [
        "x1 = np.random.random(N)\n",
        "x2 = x1 + [np.random.randint(10)/10 for i in range(N)] + b\n",
        "C1 = [x1, x2]"
      ],
      "metadata": {
        "id": "OY9R2qYzQm81"
      },
      "execution_count": 233,
      "outputs": []
    },
    {
      "cell_type": "code",
      "source": [
        "x1 = np.random.random(N)\n",
        "x2 = x1 - [np.random.randint(10)/10 for i in range(N)] - 0.1 + b\n",
        "C2 = [x1, x2]"
      ],
      "metadata": {
        "id": "0ycDFR0QQqZL"
      },
      "execution_count": 234,
      "outputs": []
    },
    {
      "cell_type": "code",
      "source": [
        "f = [0+b, 1+b]"
      ],
      "metadata": {
        "id": "uyHG_bMJQ9e1"
      },
      "execution_count": 235,
      "outputs": []
    },
    {
      "cell_type": "code",
      "source": [
        "w2 = 0.5\n",
        "w3 = -b*w2\n",
        "w = np.array([-w2, w2, w3])\n",
        "for i in range(N):\n",
        "    x = np.array([C1[0][i], C1[1][i], 1])\n",
        "    y = np.dot(x, w)\n",
        "    if y >= 0:\n",
        "        print(\"Класс C1\")\n",
        "    else:\n",
        "        print(\"Класс C2\")"
      ],
      "metadata": {
        "colab": {
          "base_uri": "https://localhost:8080/"
        },
        "id": "w4wJx_wRRFHM",
        "outputId": "04641482-64a7-4273-b60e-492a31ed0ed8"
      },
      "execution_count": 237,
      "outputs": [
        {
          "output_type": "stream",
          "name": "stdout",
          "text": [
            "Класс C1\n",
            "Класс C1\n",
            "Класс C1\n",
            "Класс C1\n",
            "Класс C1\n"
          ]
        }
      ]
    },
    {
      "cell_type": "code",
      "source": [
        "plt.scatter(C1[0][:], C1[1][:], s=10, c='red')\n",
        "plt.scatter(C2[0][:], C2[1][:], s=10, c='blue')\n",
        "plt.plot(f)\n",
        "plt.grid(True)\n",
        "plt.show()"
      ],
      "metadata": {
        "colab": {
          "base_uri": "https://localhost:8080/",
          "height": 265
        },
        "id": "L9rL-zpmUd9v",
        "outputId": "8897267b-0800-4342-d34b-226ecf706a98"
      },
      "execution_count": 238,
      "outputs": [
        {
          "output_type": "display_data",
          "data": {
            "text/plain": [
              "<Figure size 432x288 with 1 Axes>"
            ],
            "image/png": "[encoded data removed]"
          },
          "metadata": {
            "needs_background": "light"
          }
        }
      ]
    },
    {
      "cell_type": "code",
      "source": [],
      "metadata": {
        "id": "NQqrc3WMythu"
      },
      "execution_count": null,
      "outputs": []
    }
  ]
}